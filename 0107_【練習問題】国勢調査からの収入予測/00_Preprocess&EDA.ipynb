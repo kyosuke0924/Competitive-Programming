{
  "nbformat": 4,
  "nbformat_minor": 0,
  "metadata": {
    "colab": {
      "name": "00_Preprocess&EDA.ipynb",
      "provenance": [],
      "authorship_tag": "ABX9TyO+BogvhTihvjoBbaYRVTB9",
      "include_colab_link": true
    },
    "kernelspec": {
      "name": "python3",
      "display_name": "Python 3"
    },
    "language_info": {
      "name": "python"
    }
  },
  "cells": [
    {
      "cell_type": "markdown",
      "metadata": {
        "id": "view-in-github",
        "colab_type": "text"
      },
      "source": [
        "<a href=\"https://colab.research.google.com/github/kyosuke0924/Competitive-Programming/blob/master/0107_%E3%80%90%E7%B7%B4%E7%BF%92%E5%95%8F%E9%A1%8C%E3%80%91%E5%9B%BD%E5%8B%A2%E8%AA%BF%E6%9F%BB%E3%81%8B%E3%82%89%E3%81%AE%E5%8F%8E%E5%85%A5%E4%BA%88%E6%B8%AC/00_Preprocess%26EDA.ipynb\" target=\"_parent\"><img src=\"https://colab.research.google.com/assets/colab-badge.svg\" alt=\"Open In Colab\"/></a>"
      ]
    },
    {
      "cell_type": "code",
      "metadata": {
        "id": "1wOiqNV0TgRg"
      },
      "source": [
        ""
      ],
      "execution_count": null,
      "outputs": []
    }
  ]
}